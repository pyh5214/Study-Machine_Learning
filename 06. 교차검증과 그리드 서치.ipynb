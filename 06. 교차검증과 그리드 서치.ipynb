{
 "cells": [
  {
   "cell_type": "code",
   "execution_count": 1,
   "id": "ef4eb3f8",
   "metadata": {},
   "outputs": [],
   "source": [
    "import numpy as np\n",
    "import pandas as pd\n",
    "import matplotlib.pyplot as plt"
   ]
  },
  {
   "cell_type": "code",
   "execution_count": 2,
   "id": "2d8f34aa",
   "metadata": {},
   "outputs": [],
   "source": [
    "wine = pd.read_csv('https://raw.githubusercontent.com/rickiepark/hg-mldl/master/wine.csv')"
   ]
  },
  {
   "cell_type": "code",
   "execution_count": 3,
   "id": "aa01be2f",
   "metadata": {},
   "outputs": [],
   "source": [
    "wine_input = wine[['alcohol', 'sugar', 'pH']].to_numpy()\n",
    "wine_target = wine[['class']].to_numpy()"
   ]
  },
  {
   "cell_type": "markdown",
   "id": "4d3cb1da",
   "metadata": {},
   "source": [
    "# 훈련세트와 테스트세트 분리"
   ]
  },
  {
   "cell_type": "code",
   "execution_count": 4,
   "id": "c21061ab",
   "metadata": {},
   "outputs": [],
   "source": [
    "from sklearn.model_selection import train_test_split\n",
    "\n",
    "train_input, test_input, train_target, test_target = train_test_split(\n",
    "wine_input, wine_target, test_size = 0.2, random_state = 42)"
   ]
  },
  {
   "cell_type": "markdown",
   "id": "582414a1",
   "metadata": {},
   "source": [
    "# 훈련세트에서 검증세트 분리"
   ]
  },
  {
   "cell_type": "code",
   "execution_count": 5,
   "id": "1bb4fde4",
   "metadata": {},
   "outputs": [],
   "source": [
    "sub_input, val_input, sub_target, val_target = train_test_split(\n",
    "train_input, train_target, test_size = 0.2, random_state = 42)"
   ]
  },
  {
   "cell_type": "code",
   "execution_count": 6,
   "id": "1694a652",
   "metadata": {},
   "outputs": [
    {
     "data": {
      "text/plain": [
       "((4157, 3), (1040, 3))"
      ]
     },
     "execution_count": 6,
     "metadata": {},
     "output_type": "execute_result"
    }
   ],
   "source": [
    "sub_input.shape, val_input.shape"
   ]
  },
  {
   "cell_type": "markdown",
   "id": "16e0882a",
   "metadata": {},
   "source": [
    "# 모델 구축(DecisionTreeClassifier)"
   ]
  },
  {
   "cell_type": "code",
   "execution_count": 7,
   "id": "94bd15c7",
   "metadata": {},
   "outputs": [
    {
     "name": "stdout",
     "output_type": "stream",
     "text": [
      "0.9971133028626413\n",
      "0.864423076923077\n"
     ]
    }
   ],
   "source": [
    "from sklearn.tree import DecisionTreeClassifier\n",
    "dt = DecisionTreeClassifier(random_state = 42)\n",
    "dt.fit(sub_input, sub_target)\n",
    "\n",
    "print(dt.score(sub_input, sub_target))\n",
    "print(dt.score(val_input, val_target))"
   ]
  },
  {
   "cell_type": "markdown",
   "id": "683896c3",
   "metadata": {},
   "source": [
    "# 교차검증(k-fold cross validation)"
   ]
  },
  {
   "cell_type": "code",
   "execution_count": 9,
   "id": "7cabf6d0",
   "metadata": {},
   "outputs": [
    {
     "data": {
      "text/plain": [
       "{'fit_time': array([0.00698185, 0.00565434, 0.00558925, 0.00598478, 0.00603056]),\n",
       " 'score_time': array([0.0009973 , 0.00100112, 0.0009892 , 0.00100017, 0.        ]),\n",
       " 'test_score': array([0.86923077, 0.84615385, 0.87680462, 0.84889317, 0.83541867])}"
      ]
     },
     "execution_count": 9,
     "metadata": {},
     "output_type": "execute_result"
    }
   ],
   "source": [
    "from sklearn.model_selection import cross_validate\n",
    "\n",
    "# 평가할 모델 객체를 매개변수로 전달한다.(검정세트를 떼어내지 않고 훈련세트 전체를 전달해야 한다.)\n",
    "scores = cross_validate(dt, train_input, train_target)\n",
    "scores"
   ]
  },
  {
   "cell_type": "code",
   "execution_count": 10,
   "id": "3de47e0c",
   "metadata": {},
   "outputs": [
    {
     "data": {
      "text/plain": [
       "array([0.86923077, 0.84615385, 0.87680462, 0.84889317, 0.83541867])"
      ]
     },
     "execution_count": 10,
     "metadata": {},
     "output_type": "execute_result"
    }
   ],
   "source": [
    "scores['test_score']"
   ]
  },
  {
   "cell_type": "code",
   "execution_count": 11,
   "id": "1aca78b2",
   "metadata": {},
   "outputs": [
    {
     "data": {
      "text/plain": [
       "0.855300214703487"
      ]
     },
     "execution_count": 11,
     "metadata": {},
     "output_type": "execute_result"
    }
   ],
   "source": [
    "np.mean(scores['test_score'])"
   ]
  },
  {
   "cell_type": "code",
   "execution_count": 13,
   "id": "37b7e459",
   "metadata": {},
   "outputs": [
    {
     "data": {
      "text/plain": [
       "0.855300214703487"
      ]
     },
     "execution_count": 13,
     "metadata": {},
     "output_type": "execute_result"
    }
   ],
   "source": [
    "from sklearn.model_selection import StratifiedKFold\n",
    "# cv = StratifiedKFold(), splitter\n",
    "scores = cross_validate(dt, train_input, train_target, cv=StratifiedKFold())\n",
    "np.mean(scores['test_score'])"
   ]
  },
  {
   "cell_type": "code",
   "execution_count": 15,
   "id": "01d0766b",
   "metadata": {},
   "outputs": [
    {
     "data": {
      "text/plain": [
       "0.8574181117533719"
      ]
     },
     "execution_count": 15,
     "metadata": {},
     "output_type": "execute_result"
    }
   ],
   "source": [
    "# 만약 k-fold가 10이라면(10-겹 교차검증)\n",
    "splitter = StratifiedKFold(n_splits = 10, shuffle = True, random_state = 42)\n",
    "scores = cross_validate(dt, train_input, train_target, cv = splitter)\n",
    "np.mean(scores['test_score'])"
   ]
  },
  {
   "cell_type": "code",
   "execution_count": null,
   "id": "76b11d7a",
   "metadata": {},
   "outputs": [],
   "source": []
  },
  {
   "cell_type": "code",
   "execution_count": null,
   "id": "f02bc2b2",
   "metadata": {},
   "outputs": [],
   "source": []
  },
  {
   "cell_type": "code",
   "execution_count": null,
   "id": "a87e5557",
   "metadata": {},
   "outputs": [],
   "source": []
  },
  {
   "cell_type": "code",
   "execution_count": null,
   "id": "f7807f85",
   "metadata": {},
   "outputs": [],
   "source": []
  },
  {
   "cell_type": "code",
   "execution_count": null,
   "id": "c5e9e134",
   "metadata": {},
   "outputs": [],
   "source": []
  }
 ],
 "metadata": {
  "kernelspec": {
   "display_name": "Python 3 (ipykernel)",
   "language": "python",
   "name": "python3"
  },
  "language_info": {
   "codemirror_mode": {
    "name": "ipython",
    "version": 3
   },
   "file_extension": ".py",
   "mimetype": "text/x-python",
   "name": "python",
   "nbconvert_exporter": "python",
   "pygments_lexer": "ipython3",
   "version": "3.9.7"
  },
  "toc": {
   "base_numbering": 1,
   "nav_menu": {},
   "number_sections": true,
   "sideBar": true,
   "skip_h1_title": false,
   "title_cell": "Table of Contents",
   "title_sidebar": "Contents",
   "toc_cell": false,
   "toc_position": {},
   "toc_section_display": true,
   "toc_window_display": true
  }
 },
 "nbformat": 4,
 "nbformat_minor": 5
}
