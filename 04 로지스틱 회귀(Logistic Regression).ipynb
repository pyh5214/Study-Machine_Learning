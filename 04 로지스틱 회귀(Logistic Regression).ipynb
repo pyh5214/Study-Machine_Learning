{
 "cells": [
  {
   "cell_type": "code",
   "execution_count": 1,
   "id": "de2bc165",
   "metadata": {},
   "outputs": [],
   "source": [
    "import numpy as np\n",
    "import pandas as pd\n",
    "import matplotlib.pyplot as plt"
   ]
  },
  {
   "cell_type": "markdown",
   "id": "83371bed",
   "metadata": {},
   "source": [
    "## 데이터 로딩"
   ]
  },
  {
   "cell_type": "code",
   "execution_count": 2,
   "id": "8749a8da",
   "metadata": {},
   "outputs": [],
   "source": [
    "fish = pd.read_csv('C:/k_digital/source/data/fish.csv')"
   ]
  },
  {
   "cell_type": "code",
   "execution_count": 3,
   "id": "5c0f5d9b",
   "metadata": {},
   "outputs": [
    {
     "data": {
      "text/html": [
       "<div>\n",
       "<style scoped>\n",
       "    .dataframe tbody tr th:only-of-type {\n",
       "        vertical-align: middle;\n",
       "    }\n",
       "\n",
       "    .dataframe tbody tr th {\n",
       "        vertical-align: top;\n",
       "    }\n",
       "\n",
       "    .dataframe thead th {\n",
       "        text-align: right;\n",
       "    }\n",
       "</style>\n",
       "<table border=\"1\" class=\"dataframe\">\n",
       "  <thead>\n",
       "    <tr style=\"text-align: right;\">\n",
       "      <th></th>\n",
       "      <th>Species</th>\n",
       "      <th>Weight</th>\n",
       "      <th>Length</th>\n",
       "      <th>Diagonal</th>\n",
       "      <th>Height</th>\n",
       "      <th>Width</th>\n",
       "    </tr>\n",
       "  </thead>\n",
       "  <tbody>\n",
       "    <tr>\n",
       "      <th>0</th>\n",
       "      <td>Bream</td>\n",
       "      <td>242.0</td>\n",
       "      <td>25.4</td>\n",
       "      <td>30.0</td>\n",
       "      <td>11.5200</td>\n",
       "      <td>4.0200</td>\n",
       "    </tr>\n",
       "    <tr>\n",
       "      <th>1</th>\n",
       "      <td>Bream</td>\n",
       "      <td>290.0</td>\n",
       "      <td>26.3</td>\n",
       "      <td>31.2</td>\n",
       "      <td>12.4800</td>\n",
       "      <td>4.3056</td>\n",
       "    </tr>\n",
       "    <tr>\n",
       "      <th>2</th>\n",
       "      <td>Bream</td>\n",
       "      <td>340.0</td>\n",
       "      <td>26.5</td>\n",
       "      <td>31.1</td>\n",
       "      <td>12.3778</td>\n",
       "      <td>4.6961</td>\n",
       "    </tr>\n",
       "    <tr>\n",
       "      <th>3</th>\n",
       "      <td>Bream</td>\n",
       "      <td>363.0</td>\n",
       "      <td>29.0</td>\n",
       "      <td>33.5</td>\n",
       "      <td>12.7300</td>\n",
       "      <td>4.4555</td>\n",
       "    </tr>\n",
       "    <tr>\n",
       "      <th>4</th>\n",
       "      <td>Bream</td>\n",
       "      <td>430.0</td>\n",
       "      <td>29.0</td>\n",
       "      <td>34.0</td>\n",
       "      <td>12.4440</td>\n",
       "      <td>5.1340</td>\n",
       "    </tr>\n",
       "  </tbody>\n",
       "</table>\n",
       "</div>"
      ],
      "text/plain": [
       "  Species  Weight  Length  Diagonal   Height   Width\n",
       "0   Bream   242.0    25.4      30.0  11.5200  4.0200\n",
       "1   Bream   290.0    26.3      31.2  12.4800  4.3056\n",
       "2   Bream   340.0    26.5      31.1  12.3778  4.6961\n",
       "3   Bream   363.0    29.0      33.5  12.7300  4.4555\n",
       "4   Bream   430.0    29.0      34.0  12.4440  5.1340"
      ]
     },
     "execution_count": 3,
     "metadata": {},
     "output_type": "execute_result"
    }
   ],
   "source": [
    "fish.head()"
   ]
  },
  {
   "cell_type": "code",
   "execution_count": 4,
   "id": "3f9d5185",
   "metadata": {},
   "outputs": [
    {
     "name": "stdout",
     "output_type": "stream",
     "text": [
      "<class 'pandas.core.frame.DataFrame'>\n",
      "RangeIndex: 159 entries, 0 to 158\n",
      "Data columns (total 6 columns):\n",
      " #   Column    Non-Null Count  Dtype  \n",
      "---  ------    --------------  -----  \n",
      " 0   Species   159 non-null    object \n",
      " 1   Weight    159 non-null    float64\n",
      " 2   Length    159 non-null    float64\n",
      " 3   Diagonal  159 non-null    float64\n",
      " 4   Height    159 non-null    float64\n",
      " 5   Width     159 non-null    float64\n",
      "dtypes: float64(5), object(1)\n",
      "memory usage: 7.6+ KB\n"
     ]
    }
   ],
   "source": [
    "fish.info()"
   ]
  },
  {
   "cell_type": "code",
   "execution_count": 5,
   "id": "7819ae7a",
   "metadata": {},
   "outputs": [
    {
     "data": {
      "text/plain": [
       "array(['Bream', 'Roach', 'Whitefish', 'Parkki', 'Perch', 'Pike', 'Smelt'],\n",
       "      dtype=object)"
      ]
     },
     "execution_count": 5,
     "metadata": {},
     "output_type": "execute_result"
    }
   ],
   "source": [
    "fish['Species'].unique()"
   ]
  },
  {
   "cell_type": "code",
   "execution_count": 6,
   "id": "c69c815f",
   "metadata": {},
   "outputs": [
    {
     "data": {
      "text/plain": [
       "array(['Bream', 'Roach', 'Whitefish', 'Parkki', 'Perch', 'Pike', 'Smelt'],\n",
       "      dtype=object)"
      ]
     },
     "execution_count": 6,
     "metadata": {},
     "output_type": "execute_result"
    }
   ],
   "source": [
    "pd.unique(fish['Species'])"
   ]
  },
  {
   "cell_type": "code",
   "execution_count": 7,
   "id": "2a34d4af",
   "metadata": {},
   "outputs": [],
   "source": [
    "fish_input = fish[['Weight', 'Length', 'Diagonal', 'Height', 'Width']].to_numpy()"
   ]
  },
  {
   "cell_type": "code",
   "execution_count": 8,
   "id": "a58ab6e7",
   "metadata": {},
   "outputs": [
    {
     "data": {
      "text/plain": [
       "array([[242.    ,  25.4   ,  30.    ,  11.52  ,   4.02  ],\n",
       "       [290.    ,  26.3   ,  31.2   ,  12.48  ,   4.3056],\n",
       "       [340.    ,  26.5   ,  31.1   ,  12.3778,   4.6961],\n",
       "       [363.    ,  29.    ,  33.5   ,  12.73  ,   4.4555],\n",
       "       [430.    ,  29.    ,  34.    ,  12.444 ,   5.134 ]])"
      ]
     },
     "execution_count": 8,
     "metadata": {},
     "output_type": "execute_result"
    }
   ],
   "source": [
    "fish_input[:5]"
   ]
  },
  {
   "cell_type": "code",
   "execution_count": 9,
   "id": "7d0a222b",
   "metadata": {},
   "outputs": [],
   "source": [
    "fish_target = fish['Species'].to_numpy()"
   ]
  },
  {
   "cell_type": "code",
   "execution_count": 10,
   "id": "7a2dbf39",
   "metadata": {},
   "outputs": [
    {
     "data": {
      "text/plain": [
       "array(['Bream', 'Bream', 'Bream', 'Bream', 'Bream'], dtype=object)"
      ]
     },
     "execution_count": 10,
     "metadata": {},
     "output_type": "execute_result"
    }
   ],
   "source": [
    "fish_target[:5]"
   ]
  },
  {
   "cell_type": "markdown",
   "id": "f411d324",
   "metadata": {},
   "source": [
    "## 훈련세트와 테스트세트로 분리"
   ]
  },
  {
   "cell_type": "code",
   "execution_count": 11,
   "id": "bd1e7e94",
   "metadata": {},
   "outputs": [],
   "source": [
    "from sklearn.model_selection import train_test_split\n",
    "train_input, test_input, train_target, test_target = train_test_split(\n",
    "fish_input, fish_target, random_state = 42)"
   ]
  },
  {
   "cell_type": "code",
   "execution_count": 12,
   "id": "7c9bcfac",
   "metadata": {},
   "outputs": [
    {
     "data": {
      "text/plain": [
       "0.7484276729559748"
      ]
     },
     "execution_count": 12,
     "metadata": {},
     "output_type": "execute_result"
    }
   ],
   "source": [
    "len(train_input) / len(fish_input) ## 75% / 25% 로 분리"
   ]
  },
  {
   "cell_type": "markdown",
   "id": "2096b23a",
   "metadata": {},
   "source": [
    "## 피처 스케일링"
   ]
  },
  {
   "cell_type": "code",
   "execution_count": 13,
   "id": "3cf41a0c",
   "metadata": {},
   "outputs": [],
   "source": [
    "from sklearn.preprocessing import StandardScaler"
   ]
  },
  {
   "cell_type": "code",
   "execution_count": 14,
   "id": "39c716de",
   "metadata": {},
   "outputs": [],
   "source": [
    "ss = StandardScaler() ## 스케일러 객체 생성\n",
    "## standard(표준화) 스케일의 경우 '정규분포'를 따르는 데이터셋을 대상으로 해야함\n",
    "## 하지만 데이터셋의 분량이 작으므로 정규성을 가정하고 진행하는 중"
   ]
  },
  {
   "cell_type": "code",
   "execution_count": 15,
   "id": "a0ea33c4",
   "metadata": {},
   "outputs": [],
   "source": [
    "ss.fit(train_input) ## 변수들을 파악해서 변환을 위한 훈련을 시킴\n",
    "train_scaled = ss.transform(train_input)  ## 훈련된 모델을 통해 실제로 데이터를 변환함\n",
    "test_scaled = ss.transform(test_input)"
   ]
  },
  {
   "cell_type": "markdown",
   "id": "497d2fa5",
   "metadata": {},
   "source": [
    "> 학습 알고리즘 : fit(훈련), predict(예측), score(평가) 과정으로 수행됨<br><br>\n",
    "계산하는 함수 f(x), 분석 모델 을 만드는 과정 => **fit**(문제, 정답[target])<br>\n",
    "만들어진 모델에 새로운 값 X<sub>new</sub>을 대입 => **predict**<br><br>\n",
    "모델에 의해 처리된 결과(분류 or 예측[회귀])에 따라 평가 => **score**<br>\n",
    "분류 -> 정확도, 예측(회귀) -> R<sup>2</sup>(결정계수)"
   ]
  },
  {
   "cell_type": "markdown",
   "id": "13cf9730",
   "metadata": {},
   "source": [
    "## k-최근접 이웃 분류기를 이용한 확률 예측"
   ]
  },
  {
   "cell_type": "code",
   "execution_count": 16,
   "id": "f79004f8",
   "metadata": {},
   "outputs": [
    {
     "name": "stdout",
     "output_type": "stream",
     "text": [
      "0.8907563025210085\n",
      "0.85\n"
     ]
    }
   ],
   "source": [
    "from sklearn.neighbors import KNeighborsClassifier\n",
    "knn = KNeighborsClassifier(n_neighbors = 3)\n",
    "knn.fit(train_scaled, train_target)\n",
    "\n",
    "print(knn.score(train_scaled, train_target))\n",
    "print(knn.score(test_scaled, test_target))"
   ]
  },
  {
   "cell_type": "code",
   "execution_count": 17,
   "id": "5f9bd829",
   "metadata": {},
   "outputs": [
    {
     "data": {
      "text/plain": [
       "array(['Bream', 'Parkki', 'Perch', 'Pike', 'Roach', 'Smelt', 'Whitefish'],\n",
       "      dtype=object)"
      ]
     },
     "execution_count": 17,
     "metadata": {},
     "output_type": "execute_result"
    }
   ],
   "source": [
    "knn.classes_"
   ]
  },
  {
   "cell_type": "code",
   "execution_count": 18,
   "id": "7c72ae36",
   "metadata": {},
   "outputs": [
    {
     "data": {
      "text/plain": [
       "array(['Perch', 'Smelt', 'Pike', 'Perch', 'Perch'], dtype=object)"
      ]
     },
     "execution_count": 18,
     "metadata": {},
     "output_type": "execute_result"
    }
   ],
   "source": [
    "knn.predict(test_scaled[:5])"
   ]
  },
  {
   "cell_type": "code",
   "execution_count": 19,
   "id": "bf0a51a9",
   "metadata": {},
   "outputs": [
    {
     "data": {
      "text/plain": [
       "array([[0.    , 0.    , 1.    , 0.    , 0.    , 0.    , 0.    ],\n",
       "       [0.    , 0.    , 0.    , 0.    , 0.    , 1.    , 0.    ],\n",
       "       [0.    , 0.    , 0.    , 1.    , 0.    , 0.    , 0.    ],\n",
       "       [0.    , 0.    , 0.6667, 0.    , 0.3333, 0.    , 0.    ],\n",
       "       [0.    , 0.    , 0.6667, 0.    , 0.3333, 0.    , 0.    ]])"
      ]
     },
     "execution_count": 19,
     "metadata": {},
     "output_type": "execute_result"
    }
   ],
   "source": [
    "# predict_proba() : 클래스별 확류값을 반환해주는 메서드\n",
    "proba = knn.predict_proba(test_scaled[:5])\n",
    "# decimals : 유지할 소숫점 자릿수\n",
    "np.round(proba, decimals = 4)"
   ]
  },
  {
   "cell_type": "code",
   "execution_count": 20,
   "id": "0bd8b14a",
   "metadata": {},
   "outputs": [
    {
     "name": "stdout",
     "output_type": "stream",
     "text": [
      "[[0.20774583 0.24862983 0.33682411]] [[104 115 106]]\n"
     ]
    },
    {
     "data": {
      "text/plain": [
       "array([['Roach', 'Perch', 'Perch']], dtype=object)"
      ]
     },
     "execution_count": 20,
     "metadata": {},
     "output_type": "execute_result"
    }
   ],
   "source": [
    "distances, indexs = knn.kneighbors(test_scaled[3:4])\n",
    "\n",
    "print(distances, indexs)\n",
    "\n",
    "train_target[indexs] ## 인덱스 3번 'Perch' 데이터의 3개의 주변데이터 정보를 불러옴\n",
    "\n",
    "## 확인결과 3개의 데이터 중 2개가 'Perch' 이므로 2/3(0.6667) 확률이 계산되었음을 알 수 있음.\n",
    "## 하지만, 3개의 데이터를 통해 뽑아낸 확률이 활용하기에 유의미하다고 할 수는 없다.\n",
    "\n",
    "## => 로지스틱 회귀(선형방정식을 학습한 분류 알고리즘)의 필요성"
   ]
  },
  {
   "cell_type": "markdown",
   "id": "65dc3c6b",
   "metadata": {},
   "source": [
    "## 로지스틱 회귀\n",
    "- 대표적인 분류 알고리즘\n",
    "- 인공신경망에 기본이 되는 알고리즘\n",
    "- 선형회귀와 비슷하게 선형 방정식을 학습하는 알고리즘이다."
   ]
  },
  {
   "cell_type": "code",
   "execution_count": 21,
   "id": "5ff1f5b3",
   "metadata": {},
   "outputs": [
    {
     "name": "stdout",
     "output_type": "stream",
     "text": [
      "Requirement already satisfied: IPython in c:\\anaconda3\\lib\\site-packages (7.29.0)\n",
      "Requirement already satisfied: pickleshare in c:\\anaconda3\\lib\\site-packages (from IPython) (0.7.5)\n",
      "Requirement already satisfied: pygments in c:\\anaconda3\\lib\\site-packages (from IPython) (2.10.0)\n",
      "Requirement already satisfied: colorama in c:\\anaconda3\\lib\\site-packages (from IPython) (0.4.4)\n",
      "Requirement already satisfied: jedi>=0.16 in c:\\anaconda3\\lib\\site-packages (from IPython) (0.18.0)\n",
      "Requirement already satisfied: setuptools>=18.5 in c:\\anaconda3\\lib\\site-packages (from IPython) (58.0.4)\n",
      "Requirement already satisfied: traitlets>=4.2 in c:\\anaconda3\\lib\\site-packages (from IPython) (5.1.0)\n",
      "Requirement already satisfied: backcall in c:\\anaconda3\\lib\\site-packages (from IPython) (0.2.0)\n",
      "Requirement already satisfied: decorator in c:\\anaconda3\\lib\\site-packages (from IPython) (5.1.0)\n",
      "Requirement already satisfied: matplotlib-inline in c:\\anaconda3\\lib\\site-packages (from IPython) (0.1.2)\n",
      "Requirement already satisfied: prompt-toolkit!=3.0.0,!=3.0.1,<3.1.0,>=2.0.0 in c:\\anaconda3\\lib\\site-packages (from IPython) (3.0.20)\n",
      "Requirement already satisfied: parso<0.9.0,>=0.8.0 in c:\\anaconda3\\lib\\site-packages (from jedi>=0.16->IPython) (0.8.2)\n",
      "Requirement already satisfied: wcwidth in c:\\anaconda3\\lib\\site-packages (from prompt-toolkit!=3.0.0,!=3.0.1,<3.1.0,>=2.0.0->IPython) (0.2.5)\n"
     ]
    }
   ],
   "source": [
    "!pip install IPython \n",
    "from IPython.display import Image"
   ]
  },
  {
   "cell_type": "code",
   "execution_count": 22,
   "id": "1779f655",
   "metadata": {},
   "outputs": [
    {
     "data": {
      "image/png": "[encoded data removed]",
      "text/plain": [
       "<IPython.core.display.Image object>"
      ]
     },
     "execution_count": 22,
     "metadata": {},
     "output_type": "execute_result"
    }
   ],
   "source": [
    "Image(\"logistic.png\") ## "
   ]
  },
  {
   "cell_type": "code",
   "execution_count": 23,
   "id": "647bef98",
   "metadata": {},
   "outputs": [],
   "source": [
    "## https://freshrimpsushi.github.io/posts/what-is-a-logistic-function/"
   ]
  },
  {
   "cell_type": "markdown",
   "id": "cb7ab03b",
   "metadata": {},
   "source": [
    "로짓 함수는 독립 변수의 값에 관계없이 종속 변수의 값으로 0과 1 사이의 값만 반환합니다. 로지스틱 회귀 분석에서는 이 같은 방법으로 종속 변수의 값을 추정합니다. 또한 로지스틱 회귀 방법은 여러 독립 변수와 단일 종속 변수 간의 방정식을 모델링합니다."
   ]
  },
  {
   "cell_type": "code",
   "execution_count": 24,
   "id": "59ac9478",
   "metadata": {},
   "outputs": [],
   "source": [
    "## https://aws.amazon.com/ko/what-is/logistic-regression/"
   ]
  },
  {
   "cell_type": "markdown",
   "id": "37ca23f5",
   "metadata": {},
   "source": [
    "### 로지스틱 회귀(이진 분류)"
   ]
  },
  {
   "cell_type": "code",
   "execution_count": 25,
   "id": "e5d989b6",
   "metadata": {},
   "outputs": [],
   "source": [
    "arr = np.array(['A', 'B', 'C', 'D', 'E'])\n",
    "# boolean indexing\n",
    "boolean = [True, False, True, False, False]"
   ]
  },
  {
   "cell_type": "code",
   "execution_count": 26,
   "id": "f92f04ed",
   "metadata": {},
   "outputs": [
    {
     "data": {
      "text/plain": [
       "array(['A', 'C'], dtype='<U1')"
      ]
     },
     "execution_count": 26,
     "metadata": {},
     "output_type": "execute_result"
    }
   ],
   "source": [
    "arr[boolean]"
   ]
  },
  {
   "cell_type": "code",
   "execution_count": 27,
   "id": "d7905616",
   "metadata": {},
   "outputs": [
    {
     "data": {
      "text/plain": [
       "array(['A', 'C'], dtype='<U1')"
      ]
     },
     "execution_count": 27,
     "metadata": {},
     "output_type": "execute_result"
    }
   ],
   "source": [
    "arr[[0,2]]"
   ]
  },
  {
   "cell_type": "code",
   "execution_count": 28,
   "id": "15685e6d",
   "metadata": {},
   "outputs": [
    {
     "data": {
      "text/html": [
       "<div>\n",
       "<style scoped>\n",
       "    .dataframe tbody tr th:only-of-type {\n",
       "        vertical-align: middle;\n",
       "    }\n",
       "\n",
       "    .dataframe tbody tr th {\n",
       "        vertical-align: top;\n",
       "    }\n",
       "\n",
       "    .dataframe thead th {\n",
       "        text-align: right;\n",
       "    }\n",
       "</style>\n",
       "<table border=\"1\" class=\"dataframe\">\n",
       "  <thead>\n",
       "    <tr style=\"text-align: right;\">\n",
       "      <th></th>\n",
       "      <th>Species</th>\n",
       "      <th>Weight</th>\n",
       "      <th>Length</th>\n",
       "      <th>Diagonal</th>\n",
       "      <th>Height</th>\n",
       "      <th>Width</th>\n",
       "    </tr>\n",
       "  </thead>\n",
       "  <tbody>\n",
       "    <tr>\n",
       "      <th>0</th>\n",
       "      <td>Bream</td>\n",
       "      <td>242.0</td>\n",
       "      <td>25.4</td>\n",
       "      <td>30.0</td>\n",
       "      <td>11.5200</td>\n",
       "      <td>4.0200</td>\n",
       "    </tr>\n",
       "    <tr>\n",
       "      <th>1</th>\n",
       "      <td>Bream</td>\n",
       "      <td>290.0</td>\n",
       "      <td>26.3</td>\n",
       "      <td>31.2</td>\n",
       "      <td>12.4800</td>\n",
       "      <td>4.3056</td>\n",
       "    </tr>\n",
       "    <tr>\n",
       "      <th>2</th>\n",
       "      <td>Bream</td>\n",
       "      <td>340.0</td>\n",
       "      <td>26.5</td>\n",
       "      <td>31.1</td>\n",
       "      <td>12.3778</td>\n",
       "      <td>4.6961</td>\n",
       "    </tr>\n",
       "    <tr>\n",
       "      <th>3</th>\n",
       "      <td>Bream</td>\n",
       "      <td>363.0</td>\n",
       "      <td>29.0</td>\n",
       "      <td>33.5</td>\n",
       "      <td>12.7300</td>\n",
       "      <td>4.4555</td>\n",
       "    </tr>\n",
       "    <tr>\n",
       "      <th>4</th>\n",
       "      <td>Bream</td>\n",
       "      <td>430.0</td>\n",
       "      <td>29.0</td>\n",
       "      <td>34.0</td>\n",
       "      <td>12.4440</td>\n",
       "      <td>5.1340</td>\n",
       "    </tr>\n",
       "  </tbody>\n",
       "</table>\n",
       "</div>"
      ],
      "text/plain": [
       "  Species  Weight  Length  Diagonal   Height   Width\n",
       "0   Bream   242.0    25.4      30.0  11.5200  4.0200\n",
       "1   Bream   290.0    26.3      31.2  12.4800  4.3056\n",
       "2   Bream   340.0    26.5      31.1  12.3778  4.6961\n",
       "3   Bream   363.0    29.0      33.5  12.7300  4.4555\n",
       "4   Bream   430.0    29.0      34.0  12.4440  5.1340"
      ]
     },
     "execution_count": 28,
     "metadata": {},
     "output_type": "execute_result"
    }
   ],
   "source": [
    "fish.head()"
   ]
  },
  {
   "cell_type": "code",
   "execution_count": 29,
   "id": "f8eca845",
   "metadata": {},
   "outputs": [],
   "source": [
    "# Bream, Smelt 이 데이터만 이용한 이진분류 학습\n",
    "indexes = (train_target == 'Bream') | (train_target == 'Smelt')"
   ]
  },
  {
   "cell_type": "code",
   "execution_count": 30,
   "id": "d6de9a10",
   "metadata": {},
   "outputs": [],
   "source": [
    "train = train_scaled[indexes]\n",
    "target = train_target[indexes]"
   ]
  },
  {
   "cell_type": "code",
   "execution_count": 31,
   "id": "90d1bb70",
   "metadata": {},
   "outputs": [
    {
     "data": {
      "text/plain": [
       "0.7484276729559748"
      ]
     },
     "execution_count": 31,
     "metadata": {},
     "output_type": "execute_result"
    }
   ],
   "source": [
    "len(train_scaled)/len(fish_input)"
   ]
  },
  {
   "cell_type": "code",
   "execution_count": 32,
   "id": "ac9bb4c6",
   "metadata": {},
   "outputs": [
    {
     "data": {
      "text/plain": [
       "LogisticRegression()"
      ]
     },
     "execution_count": 32,
     "metadata": {},
     "output_type": "execute_result"
    }
   ],
   "source": [
    "from sklearn.linear_model import LogisticRegression\n",
    "lr = LogisticRegression()\n",
    "\n",
    "lr.fit(train, target)"
   ]
  },
  {
   "cell_type": "code",
   "execution_count": 33,
   "id": "326fa376",
   "metadata": {},
   "outputs": [
    {
     "data": {
      "text/plain": [
       "array(['Bream', 'Smelt', 'Bream', 'Bream', 'Bream'], dtype=object)"
      ]
     },
     "execution_count": 33,
     "metadata": {},
     "output_type": "execute_result"
    }
   ],
   "source": [
    "lr.predict(train[:5])"
   ]
  },
  {
   "cell_type": "code",
   "execution_count": 34,
   "id": "11119544",
   "metadata": {},
   "outputs": [
    {
     "data": {
      "text/plain": [
       "array([[0.99759855, 0.00240145],\n",
       "       [0.02735183, 0.97264817],\n",
       "       [0.99486072, 0.00513928],\n",
       "       [0.98584202, 0.01415798],\n",
       "       [0.99767269, 0.00232731]])"
      ]
     },
     "execution_count": 34,
     "metadata": {},
     "output_type": "execute_result"
    }
   ],
   "source": [
    "# 예측확률\n",
    "lr.predict_proba(train[:5])"
   ]
  },
  {
   "cell_type": "code",
   "execution_count": 35,
   "id": "4748e2b1",
   "metadata": {},
   "outputs": [
    {
     "name": "stdout",
     "output_type": "stream",
     "text": [
      "[[-0.4037798  -0.57620209 -0.66280298 -1.01290277 -0.73168947]] [-2.16155132]\n"
     ]
    }
   ],
   "source": [
    "print(lr.coef_, lr.intercept_)"
   ]
  },
  {
   "cell_type": "code",
   "execution_count": 36,
   "id": "ad3e18f7",
   "metadata": {},
   "outputs": [
    {
     "data": {
      "text/plain": [
       "array([-6.02927744,  3.57123907, -5.26568906, -4.24321775, -6.0607117 ])"
      ]
     },
     "execution_count": 36,
     "metadata": {},
     "output_type": "execute_result"
    }
   ],
   "source": [
    "# z값 계산\n",
    "decisions = lr.decision_function(train[:5])\n",
    "decisions"
   ]
  },
  {
   "cell_type": "code",
   "execution_count": 37,
   "id": "76b307c2",
   "metadata": {},
   "outputs": [
    {
     "name": "stdout",
     "output_type": "stream",
     "text": [
      "[0.00240145 0.97264817 0.00513928 0.01415798 0.00232731]\n",
      "[0.99759855 0.02735183 0.99486072 0.98584202 0.99767269]\n"
     ]
    }
   ],
   "source": [
    "# 시그모이드 함수를 통해 확률값 추출\n",
    "from scipy.special import expit\n",
    "\n",
    "print(expit(decisions)) ## proba 결과 중 [1] 번째(양성) 컬럼의 값(확률)과 일치함\n",
    "\n",
    "print(1 - expit(decisions)) ## proba 결과 중 [0] 번째(음성) 컬럼의 값(확률)과 일치함"
   ]
  },
  {
   "cell_type": "markdown",
   "id": "daad7186",
   "metadata": {},
   "source": [
    "### 로지스틱 회귀(다중분류)"
   ]
  },
  {
   "cell_type": "code",
   "execution_count": 38,
   "id": "eb7ec74e",
   "metadata": {},
   "outputs": [
    {
     "name": "stdout",
     "output_type": "stream",
     "text": [
      "0.9327731092436975\n",
      "0.925\n"
     ]
    },
    {
     "name": "stderr",
     "output_type": "stream",
     "text": [
      "C:\\Anaconda3\\lib\\site-packages\\sklearn\\linear_model\\_logistic.py:763: ConvergenceWarning: lbfgs failed to converge (status=1):\n",
      "STOP: TOTAL NO. of ITERATIONS REACHED LIMIT.\n",
      "\n",
      "Increase the number of iterations (max_iter) or scale the data as shown in:\n",
      "    https://scikit-learn.org/stable/modules/preprocessing.html\n",
      "Please also refer to the documentation for alternative solver options:\n",
      "    https://scikit-learn.org/stable/modules/linear_model.html#logistic-regression\n",
      "  n_iter_i = _check_optimize_result(\n"
     ]
    }
   ],
   "source": [
    "from sklearn.linear_model import LogisticRegression\n",
    "lr = LogisticRegression(C = 20, max_iter = 100)\n",
    "lr.fit(train_scaled, train_target)\n",
    "print(lr.score(train_scaled, train_target))\n",
    "print(lr.score(test_scaled, test_target))"
   ]
  },
  {
   "cell_type": "code",
   "execution_count": 39,
   "id": "38f0654a",
   "metadata": {},
   "outputs": [
    {
     "data": {
      "text/plain": [
       "array(['Perch', 'Smelt', 'Pike', 'Roach', 'Perch'], dtype=object)"
      ]
     },
     "execution_count": 39,
     "metadata": {},
     "output_type": "execute_result"
    }
   ],
   "source": [
    "lr.predict(test_scaled[:5])"
   ]
  },
  {
   "cell_type": "code",
   "execution_count": 40,
   "id": "26f35f5c",
   "metadata": {},
   "outputs": [
    {
     "data": {
      "text/plain": [
       "array([[0.   , 0.014, 0.841, 0.   , 0.136, 0.007, 0.003],\n",
       "       [0.   , 0.003, 0.044, 0.   , 0.007, 0.946, 0.   ],\n",
       "       [0.   , 0.   , 0.034, 0.935, 0.015, 0.016, 0.   ],\n",
       "       [0.011, 0.034, 0.306, 0.007, 0.566, 0.   , 0.076],\n",
       "       [0.   , 0.   , 0.904, 0.002, 0.09 , 0.002, 0.001]])"
      ]
     },
     "execution_count": 40,
     "metadata": {},
     "output_type": "execute_result"
    }
   ],
   "source": [
    "proba = lr.predict_proba(test_scaled[:5])\n",
    "np.round(proba, decimals = 3)"
   ]
  },
  {
   "cell_type": "code",
   "execution_count": 41,
   "id": "cce619d1",
   "metadata": {},
   "outputs": [
    {
     "data": {
      "text/plain": [
       "array(['Bream', 'Parkki', 'Perch', 'Pike', 'Roach', 'Smelt', 'Whitefish'],\n",
       "      dtype=object)"
      ]
     },
     "execution_count": 41,
     "metadata": {},
     "output_type": "execute_result"
    }
   ],
   "source": [
    "lr.classes_"
   ]
  },
  {
   "cell_type": "code",
   "execution_count": null,
   "id": "fc196ff9",
   "metadata": {},
   "outputs": [],
   "source": []
  }
 ],
 "metadata": {
  "kernelspec": {
   "display_name": "Python 3 (ipykernel)",
   "language": "python",
   "name": "python3"
  },
  "language_info": {
   "codemirror_mode": {
    "name": "ipython",
    "version": 3
   },
   "file_extension": ".py",
   "mimetype": "text/x-python",
   "name": "python",
   "nbconvert_exporter": "python",
   "pygments_lexer": "ipython3",
   "version": "3.9.7"
  },
  "toc": {
   "base_numbering": 1,
   "nav_menu": {},
   "number_sections": true,
   "sideBar": true,
   "skip_h1_title": false,
   "title_cell": "Table of Contents",
   "title_sidebar": "Contents",
   "toc_cell": false,
   "toc_position": {},
   "toc_section_display": true,
   "toc_window_display": true
  }
 },
 "nbformat": 4,
 "nbformat_minor": 5
}
